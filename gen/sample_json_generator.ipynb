{
 "cells": [
  {
   "cell_type": "markdown",
   "id": "f5e1676f",
   "metadata": {},
   "source": [
    "# Create 1-Wave and 2-WaveFile and 3-WaveFormat json."
   ]
  },
  {
   "cell_type": "markdown",
   "id": "7a3edafe",
   "metadata": {},
   "source": [
    "## Params define."
   ]
  },
  {
   "cell_type": "code",
   "execution_count": 1,
   "id": "f91dbb20-e3a3-4cc9-b474-25e21fc99f1e",
   "metadata": {
    "execution": {
     "iopub.execute_input": "2021-08-15T14:08:09.761849Z",
     "iopub.status.busy": "2021-08-15T14:08:09.761017Z",
     "iopub.status.idle": "2021-08-15T14:08:09.768306Z",
     "shell.execute_reply": "2021-08-15T14:08:09.768820Z"
    }
   },
   "outputs": [],
   "source": [
    "class Param:\n",
    "\n",
    "    def __init__(\n",
    "        self,\n",
    "        file_name: str,\n",
    "        num_channels: int,\n",
    "        sample_rate: int,\n",
    "        bits_per_sample: int,\n",
    "        f0: float,\n",
    "        sec: float,\n",
    "    ):\n",
    "        self.file_name: str = file_name  # FileName\n",
    "        self.chunk_id: str = \"RIFF\"\n",
    "        self.chunk_size: int = 0\n",
    "        self.wave_format: str = \"WAVE\"\n",
    "        self.sub_chunk_1_id: str = \"fmt \"\n",
    "        self.sub_chunk_1_size: int = 16\n",
    "        self.audio_format: int = 1  # BasicPCM\n",
    "        self.num_channels: int = num_channels\n",
    "        self.sample_rate: int = sample_rate  # FrameRate\n",
    "        self.byte_rate: int = sample_rate * num_channels * bits_per_sample // 8\n",
    "        self.block_align: int = num_channels * bits_per_sample // 8\n",
    "        self.bits_per_sample: int = bits_per_sample\n",
    "        self.sub_chunk_2_id: str = \"data\"\n",
    "        self.sub_chunk_2_size: int = 0\n",
    "        self.data: List[int] = None\n",
    "        # Fields above this are required for json\n",
    "        self.dataBytes: bytes = b\"\"\n",
    "        self.f0: float = f0  # FundamentalFrequency(Hz)\n",
    "        self.sec: float = sec\n",
    "\n",
    "    def set_data(self, data):\n",
    "        self.data = data.tolist()\n",
    "        self.dataBytes = data.tobytes()\n",
    "        self.sub_chunk_2_size = len(self.dataBytes)\n",
    "        self.chunk_size = 4 + (8 + self.sub_chunk_1_size) + (\n",
    "            8 + self.sub_chunk_2_size)"
   ]
  },
  {
   "cell_type": "code",
   "execution_count": 2,
   "id": "f84beec7",
   "metadata": {
    "execution": {
     "iopub.execute_input": "2021-08-15T14:08:09.773473Z",
     "iopub.status.busy": "2021-08-15T14:08:09.772812Z",
     "iopub.status.idle": "2021-08-15T14:08:09.776037Z",
     "shell.execute_reply": "2021-08-15T14:08:09.776534Z"
    }
   },
   "outputs": [],
   "source": [
    "params = [\n",
    "    Param(\"X\",\n",
    "          num_channels=1,\n",
    "          sample_rate=8000,\n",
    "          bits_per_sample=16,\n",
    "          f0=440.000,\n",
    "          sec=2),\n",
    "]"
   ]
  },
  {
   "cell_type": "markdown",
   "id": "3a8ac3ef",
   "metadata": {},
   "source": [
    "## 1. Create wave"
   ]
  },
  {
   "cell_type": "code",
   "execution_count": 3,
   "id": "dd65680a-c06c-4671-b3c4-2c2121d0f138",
   "metadata": {
    "execution": {
     "iopub.execute_input": "2021-08-15T14:08:09.780797Z",
     "iopub.status.busy": "2021-08-15T14:08:09.780024Z",
     "iopub.status.idle": "2021-08-15T14:08:09.860931Z",
     "shell.execute_reply": "2021-08-15T14:08:09.861383Z"
    }
   },
   "outputs": [],
   "source": [
    "import numpy as np"
   ]
  },
  {
   "cell_type": "code",
   "execution_count": 4,
   "id": "5da0441c-2d11-4dd9-bd57-3fbe94f402fc",
   "metadata": {
    "execution": {
     "iopub.execute_input": "2021-08-15T14:08:09.865569Z",
     "iopub.status.busy": "2021-08-15T14:08:09.864932Z",
     "iopub.status.idle": "2021-08-15T14:08:09.867884Z",
     "shell.execute_reply": "2021-08-15T14:08:09.868297Z"
    }
   },
   "outputs": [],
   "source": [
    "for p in params:\n",
    "    ndarr = np.arange(0, p.sample_rate * p.sec)\n",
    "    sin_wave = 32767 * np.sin(2 * np.pi * p.f0 * ndarr / p.sample_rate)\n",
    "    sin_wave = sin_wave.astype(np.int16)\n",
    "    p.set_data(sin_wave)"
   ]
  },
  {
   "cell_type": "markdown",
   "id": "7fba76da-a8f5-411b-9983-c75974f00182",
   "metadata": {},
   "source": [
    "## 2. Write wav file"
   ]
  },
  {
   "cell_type": "code",
   "execution_count": 5,
   "id": "04a96ef1-7b2a-49e6-839d-ee19feb9d086",
   "metadata": {
    "execution": {
     "iopub.execute_input": "2021-08-15T14:08:09.871820Z",
     "iopub.status.busy": "2021-08-15T14:08:09.871190Z",
     "iopub.status.idle": "2021-08-15T14:08:09.873318Z",
     "shell.execute_reply": "2021-08-15T14:08:09.873734Z"
    }
   },
   "outputs": [],
   "source": [
    "SAMPLE_WAVES_DIR = \"../internal/samples/waves\""
   ]
  },
  {
   "cell_type": "code",
   "execution_count": 6,
   "id": "11e65673-3ea1-46d6-8399-ef637f906a3e",
   "metadata": {
    "execution": {
     "iopub.execute_input": "2021-08-15T14:08:09.876956Z",
     "iopub.status.busy": "2021-08-15T14:08:09.876276Z",
     "iopub.status.idle": "2021-08-15T14:08:09.880097Z",
     "shell.execute_reply": "2021-08-15T14:08:09.879662Z"
    }
   },
   "outputs": [],
   "source": [
    "import wave\n",
    "from os import path"
   ]
  },
  {
   "cell_type": "code",
   "execution_count": 7,
   "id": "a5ec1a0c-d98f-4e5a-92a4-3d0de39ab132",
   "metadata": {
    "execution": {
     "iopub.execute_input": "2021-08-15T14:08:09.884051Z",
     "iopub.status.busy": "2021-08-15T14:08:09.883425Z",
     "iopub.status.idle": "2021-08-15T14:08:09.886135Z",
     "shell.execute_reply": "2021-08-15T14:08:09.885634Z"
    }
   },
   "outputs": [],
   "source": [
    "for p in params:\n",
    "    write_path = f\"{path.join(SAMPLE_WAVES_DIR, p.file_name)}.wav\"\n",
    "    with wave.open(write_path, \"wb\") as f:\n",
    "        f.setnchannels(p.num_channels)\n",
    "        f.setsampwidth(p.block_align)\n",
    "        f.setframerate(p.sample_rate)\n",
    "        f.writeframes(p.dataBytes)"
   ]
  },
  {
   "cell_type": "markdown",
   "id": "26ab79fa-3a03-450f-826a-bee2f015a3d2",
   "metadata": {},
   "source": [
    "## 3. Write wave format json"
   ]
  },
  {
   "cell_type": "code",
   "execution_count": 8,
   "id": "5c1e44ea-af68-4f13-af12-f5c4c98f34a2",
   "metadata": {
    "execution": {
     "iopub.execute_input": "2021-08-15T14:08:09.889254Z",
     "iopub.status.busy": "2021-08-15T14:08:09.888631Z",
     "iopub.status.idle": "2021-08-15T14:08:09.890555Z",
     "shell.execute_reply": "2021-08-15T14:08:09.890985Z"
    }
   },
   "outputs": [],
   "source": [
    "SAMPLE_FORMAT_JSON_DIR = \"../internal/samples/format_jsons\""
   ]
  },
  {
   "cell_type": "code",
   "execution_count": 9,
   "id": "00d7fc01-c4e6-4554-9c59-f0fd08a5fdfa",
   "metadata": {
    "execution": {
     "iopub.execute_input": "2021-08-15T14:08:09.894817Z",
     "iopub.status.busy": "2021-08-15T14:08:09.893737Z",
     "iopub.status.idle": "2021-08-15T14:08:09.896169Z",
     "shell.execute_reply": "2021-08-15T14:08:09.896818Z"
    }
   },
   "outputs": [],
   "source": [
    "import json"
   ]
  },
  {
   "cell_type": "code",
   "execution_count": 10,
   "id": "57d28761-6565-4af5-835a-276dedfb4b2e",
   "metadata": {
    "execution": {
     "iopub.execute_input": "2021-08-15T14:08:09.900391Z",
     "iopub.status.busy": "2021-08-15T14:08:09.899782Z",
     "iopub.status.idle": "2021-08-15T14:08:09.902227Z",
     "shell.execute_reply": "2021-08-15T14:08:09.901649Z"
    }
   },
   "outputs": [],
   "source": [
    "unnecessary_keys = [\"dataBytes\", \"f0\", \"sec\"]"
   ]
  },
  {
   "cell_type": "code",
   "execution_count": 11,
   "id": "d086758c-129a-4efc-afda-6ae0e8decef4",
   "metadata": {
    "execution": {
     "iopub.execute_input": "2021-08-15T14:08:09.906127Z",
     "iopub.status.busy": "2021-08-15T14:08:09.905553Z",
     "iopub.status.idle": "2021-08-15T14:08:09.916146Z",
     "shell.execute_reply": "2021-08-15T14:08:09.916852Z"
    }
   },
   "outputs": [],
   "source": [
    "for p in params:\n",
    "    d = p.__dict__\n",
    "    for k in unnecessary_keys:\n",
    "        del d[k]\n",
    "    write_path = f\"{path.join(SAMPLE_FORMAT_JSON_DIR, p.file_name)}.json\"\n",
    "    with open(write_path, \"w\") as f:\n",
    "        json.dump(d, f, indent=4)"
   ]
  }
 ],
 "metadata": {
  "kernelspec": {
   "display_name": "Python 3 (ipykernel)",
   "language": "python",
   "name": "python3"
  },
  "language_info": {
   "codemirror_mode": {
    "name": "ipython",
    "version": 3
   },
   "file_extension": ".py",
   "mimetype": "text/x-python",
   "name": "python",
   "nbconvert_exporter": "python",
   "pygments_lexer": "ipython3",
   "version": "3.9.6"
  },
  "toc-autonumbering": false,
  "toc-showcode": false,
  "toc-showmarkdowntxt": false
 },
 "nbformat": 4,
 "nbformat_minor": 5
}
